{
 "cells": [
  {
   "cell_type": "markdown",
   "id": "67065ba3-366a-4275-ba63-22c0e066d136",
   "metadata": {},
   "source": [
    "<img src=\"rupixen-Q59HmzK38eQ-unsplash.jpg\" alt=\"Someone is trying to purchase a produce online\" width=\"500\"/>"
   ]
  },
  {
   "cell_type": "markdown",
   "id": "fe2cbf96-ad4d-4165-8981-1b301108f5bc",
   "metadata": {
    "collapsed": false,
    "jupyter": {
     "outputs_hidden": false,
     "source_hidden": false
    }
   },
   "source": [
    "Online shopping decisions rely on how consumers engage with online store content. You work for a new startup company that has just launched a new online shopping website. The marketing team asks you, a new data scientist, to review a dataset of online shoppers' purchasing intentions gathered over the last year. Specifically, the team wants you to generate some insights into customer browsing behaviors in November and December, the busiest months for shoppers. You have decided to identify two groups of customers: those with a low purchase rate and returning customers. After identifying these groups, you want to determine the probability that any of these customers will make a purchase in a new marketing campaign to help gauge potential success for next year's sales.\n",
    "\n",
    "### Data description:\n",
    "\n",
    "You are given an `online_shopping_session_data.csv` that contains several columns about each shopping session. Each shopping session corresponded to a single user. \n",
    "\n",
    "|Column|Description|\n",
    "|--------|-----------|\n",
    "|`SessionID`|unique session ID|\n",
    "|`Administrative`|number of pages visited related to the customer account|\n",
    "|`Administrative_Duration`|total amount of time spent (in seconds) on administrative pages|\n",
    "|`Informational`|number of pages visited related to the website and the company|\n",
    "|`Informational_Duration`|total amount of time spent (in seconds) on informational pages|\n",
    "|`ProductRelated`|number of pages visited related to available products|\n",
    "|`ProductRelated_Duration`|total amount of time spent (in seconds) on product-related pages|\n",
    "|`BounceRates`|average bounce rate of pages visited by the customer|\n",
    "|`ExitRates`|average exit rate of pages visited by the customer|\n",
    "|`PageValues`|average page value of pages visited by the customer|\n",
    "|`SpecialDay`|closeness of the site visiting time to a specific special day|\n",
    "|`Weekend`|indicator whether the session is on a weekend|\n",
    "|`Month`|month of the session date|\n",
    "|`CustomerType`|customer type|\n",
    "|`Purchase`|class label whether the customer make a purchase|"
   ]
  },
  {
   "cell_type": "markdown",
   "id": "31fc0656",
   "metadata": {},
   "source": [
    "## Proyecto\n",
    "Las decisiones de compra en línea dependen de cómo los consumidores interactúan con el contenido de la tienda en línea. Trabajas para una nueva empresa emergente que acaba de lanzar un nuevo sitio web de compras en línea. El equipo de marketing te pide, como nuevo científico de datos, que revises un conjunto de datos sobre las intenciones de compra de los compradores en línea recopilados durante el último año. Específicamente, el equipo quiere que generes algunos conocimientos sobre los comportamientos de navegación de los clientes en noviembre y diciembre, los meses más ocupados para los compradores. Has decidido identificar dos grupos de clientes: aquellos con una baja tasa de compra y los clientes recurrentes. Después de identificar estos grupos, deseas determinar la probabilidad de que alguno de estos clientes realice una compra en una nueva campaña de marketing para ayudar a evaluar el éxito potencial de las ventas del próximo año.\n",
    "\n",
    "### Descripción de los datos:\n",
    "\n",
    "Se te proporciona un archivo `online_shopping_session_data.csv` que contiene varias columnas sobre cada sesión de compra. Cada sesión de compra correspondió a un solo usuario.\n",
    "\n",
    "| Columna                   | Descripción                                                                |\n",
    "|---------------------------|----------------------------------------------------------------------------|\n",
    "| `SessionID`               | ID único de la sesión                                                      |\n",
    "| `Administrative`          | Número de páginas visitadas relacionadas con la cuenta del cliente         |\n",
    "| `Administrative_Duration` | Tiempo total (en segundos) pasado en páginas administrativas               |\n",
    "| `Informational`           | Número de páginas visitadas relacionadas con el sitio web y la empresa     |\n",
    "| `Informational_Duration`  | Tiempo total (en segundos) pasado en páginas informativas                  |\n",
    "| `ProductRelated`          | Número de páginas visitadas relacionadas con productos disponibles         |\n",
    "| `ProductRelated_Duration` | Tiempo total (en segundos) pasado en páginas relacionadas con productos    |\n",
    "| `BounceRates`             | Tasa de rebote promedio de las páginas visitadas por el cliente            |\n",
    "| `ExitRates`               | Tasa de salida promedio de las páginas visitadas por el cliente            |\n",
    "| `PageValues`              | Valor promedio de las páginas visitadas por el cliente                     |\n",
    "| `SpecialDay`              | Proximidad del tiempo de visita del sitio a un día especial específico     |\n",
    "| `Weekend`                 | Indicador de si la sesión es en un fin de semana                           |\n",
    "| `Month`                   | Mes de la fecha de la sesión                                               |\n",
    "| `CustomerType`            | Tipo de cliente                                                            |\n",
    "| `Purchase`                | Etiqueta de clase que indica si el cliente realizó una compra              |"
   ]
  },
  {
   "cell_type": "markdown",
   "id": "2ba8555d",
   "metadata": {},
   "source": [
    "The marketing team asked you to analyze the behavior of online customers during November and December, the busiest months for shoppers.\n",
    "\n",
    "What are the purchase rates for online shopping sessions by customer type for November and December? Store the result in a dictionary called purchase_rates in the format below using the exact names for keys.\n",
    "purchase_rates = {\"Returning_Customer\": 0.254, \"New_Customer\": 0.276}\n",
    "\n",
    "What is the strongest correlation in total time spent among page types by returning customers in November and December? Store the result in a dictionary called top_correlation in the format below using the exact names for keys.\n",
    "top_correlation = {\"pair\": (x_duration, y_duration), \"correlation\": 0.345}\n",
    "\n",
    "A new campaign for the returning customers will boost the purchase rate by 15%. What is the likelihood of achieving at least 100 sales out of 500 online shopping sessions for the returning customers? Store the result in a variable called prob_at_least_100_sales. Optional: plot a binomial probability distribution chart to visualize your chances."
   ]
  },
  {
   "cell_type": "markdown",
   "id": "6e5e200f",
   "metadata": {},
   "source": [
    "## Instrucciones:\n",
    "\n",
    "El equipo de marketing te pidió que analizaras el comportamiento de los clientes en línea durante noviembre y diciembre, los meses más ocupados para los compradores.\n",
    "\n",
    "¿Cuáles son las tasas de compra para las sesiones de compras en línea por tipo de cliente en noviembre y diciembre? Guarda el resultado en un diccionario llamado `purchase_rates` en el formato que se muestra a continuación utilizando los nombres exactos para las claves.\n",
    "```python\n",
    "purchase_rates = {\"Returning_Customer\": 0.254, \"New_Customer\": 0.276}\n",
    "```\n",
    "\n",
    "¿Cuál es la correlación más fuerte en el tiempo total invertido entre los tipos de página por parte de los clientes recurrentes en noviembre y diciembre? Guarda el resultado en un diccionario llamado `top_correlation` en el formato que se muestra a continuación utilizando los nombres exactos para las claves.\n",
    "```python\n",
    "top_correlation = {\"pair\": (x_duration, y_duration), \"correlation\": 0.345}\n",
    "```\n",
    "\n",
    "Una nueva campaña para los clientes recurrentes aumentará la tasa de compra en un 15%. ¿Cuál es la probabilidad de lograr al menos 100 ventas de 500 sesiones de compras en línea para los clientes recurrentes? Guarda el resultado en una variable llamada `prob_at_least_100_sales`. Opcional: traza un gráfico de distribución de probabilidad binomial para visualizar tus posibilidades."
   ]
  },
  {
   "cell_type": "code",
   "execution_count": 4,
   "id": "b841fb9f-4e70-4796-9f35-7c6bbba3cca2",
   "metadata": {
    "executionCancelledAt": null,
    "executionTime": 3195,
    "lastExecutedAt": 1718846880820,
    "lastExecutedByKernel": "00e8a437-5fa0-4505-83f8-0d11aabda2fd",
    "lastScheduledRunId": null,
    "lastSuccessfullyExecutedCode": "# import required libraries\nimport pandas as pd\nimport numpy as np\nimport matplotlib.pyplot as plt\nfrom scipy import stats"
   },
   "outputs": [
    {
     "data": {
      "text/html": [
       "<div>\n",
       "<style scoped>\n",
       "    .dataframe tbody tr th:only-of-type {\n",
       "        vertical-align: middle;\n",
       "    }\n",
       "\n",
       "    .dataframe tbody tr th {\n",
       "        vertical-align: top;\n",
       "    }\n",
       "\n",
       "    .dataframe thead th {\n",
       "        text-align: right;\n",
       "    }\n",
       "</style>\n",
       "<table border=\"1\" class=\"dataframe\">\n",
       "  <thead>\n",
       "    <tr style=\"text-align: right;\">\n",
       "      <th></th>\n",
       "      <th>SessionID</th>\n",
       "      <th>Administrative</th>\n",
       "      <th>Administrative_Duration</th>\n",
       "      <th>Informational</th>\n",
       "      <th>Informational_Duration</th>\n",
       "      <th>ProductRelated</th>\n",
       "      <th>ProductRelated_Duration</th>\n",
       "      <th>BounceRates</th>\n",
       "      <th>ExitRates</th>\n",
       "      <th>PageValues</th>\n",
       "      <th>SpecialDay</th>\n",
       "      <th>Weekend</th>\n",
       "      <th>Month</th>\n",
       "      <th>CustomerType</th>\n",
       "      <th>Purchase</th>\n",
       "    </tr>\n",
       "  </thead>\n",
       "  <tbody>\n",
       "    <tr>\n",
       "      <th>0</th>\n",
       "      <td>1</td>\n",
       "      <td>0</td>\n",
       "      <td>0.0</td>\n",
       "      <td>0</td>\n",
       "      <td>0.0</td>\n",
       "      <td>1</td>\n",
       "      <td>0.000000</td>\n",
       "      <td>0.20</td>\n",
       "      <td>0.20</td>\n",
       "      <td>0.0</td>\n",
       "      <td>0.0</td>\n",
       "      <td>False</td>\n",
       "      <td>Feb</td>\n",
       "      <td>Returning_Customer</td>\n",
       "      <td>0.0</td>\n",
       "    </tr>\n",
       "    <tr>\n",
       "      <th>1</th>\n",
       "      <td>2</td>\n",
       "      <td>0</td>\n",
       "      <td>0.0</td>\n",
       "      <td>0</td>\n",
       "      <td>0.0</td>\n",
       "      <td>2</td>\n",
       "      <td>64.000000</td>\n",
       "      <td>0.00</td>\n",
       "      <td>0.10</td>\n",
       "      <td>0.0</td>\n",
       "      <td>0.0</td>\n",
       "      <td>False</td>\n",
       "      <td>Feb</td>\n",
       "      <td>Returning_Customer</td>\n",
       "      <td>0.0</td>\n",
       "    </tr>\n",
       "    <tr>\n",
       "      <th>2</th>\n",
       "      <td>3</td>\n",
       "      <td>0</td>\n",
       "      <td>0.0</td>\n",
       "      <td>0</td>\n",
       "      <td>0.0</td>\n",
       "      <td>1</td>\n",
       "      <td>0.000000</td>\n",
       "      <td>0.20</td>\n",
       "      <td>0.20</td>\n",
       "      <td>0.0</td>\n",
       "      <td>0.0</td>\n",
       "      <td>False</td>\n",
       "      <td>Feb</td>\n",
       "      <td>Returning_Customer</td>\n",
       "      <td>0.0</td>\n",
       "    </tr>\n",
       "    <tr>\n",
       "      <th>3</th>\n",
       "      <td>4</td>\n",
       "      <td>0</td>\n",
       "      <td>0.0</td>\n",
       "      <td>0</td>\n",
       "      <td>0.0</td>\n",
       "      <td>2</td>\n",
       "      <td>2.666667</td>\n",
       "      <td>0.05</td>\n",
       "      <td>0.14</td>\n",
       "      <td>0.0</td>\n",
       "      <td>0.0</td>\n",
       "      <td>False</td>\n",
       "      <td>Feb</td>\n",
       "      <td>Returning_Customer</td>\n",
       "      <td>0.0</td>\n",
       "    </tr>\n",
       "    <tr>\n",
       "      <th>4</th>\n",
       "      <td>5</td>\n",
       "      <td>0</td>\n",
       "      <td>0.0</td>\n",
       "      <td>0</td>\n",
       "      <td>0.0</td>\n",
       "      <td>10</td>\n",
       "      <td>627.500000</td>\n",
       "      <td>0.02</td>\n",
       "      <td>0.05</td>\n",
       "      <td>0.0</td>\n",
       "      <td>0.0</td>\n",
       "      <td>True</td>\n",
       "      <td>Feb</td>\n",
       "      <td>Returning_Customer</td>\n",
       "      <td>0.0</td>\n",
       "    </tr>\n",
       "  </tbody>\n",
       "</table>\n",
       "</div>"
      ],
      "text/plain": [
       "   SessionID  Administrative  Administrative_Duration  Informational  \\\n",
       "0          1               0                      0.0              0   \n",
       "1          2               0                      0.0              0   \n",
       "2          3               0                      0.0              0   \n",
       "3          4               0                      0.0              0   \n",
       "4          5               0                      0.0              0   \n",
       "\n",
       "   Informational_Duration  ProductRelated  ProductRelated_Duration  \\\n",
       "0                     0.0               1                 0.000000   \n",
       "1                     0.0               2                64.000000   \n",
       "2                     0.0               1                 0.000000   \n",
       "3                     0.0               2                 2.666667   \n",
       "4                     0.0              10               627.500000   \n",
       "\n",
       "   BounceRates  ExitRates  PageValues  SpecialDay  Weekend Month  \\\n",
       "0         0.20       0.20         0.0         0.0    False   Feb   \n",
       "1         0.00       0.10         0.0         0.0    False   Feb   \n",
       "2         0.20       0.20         0.0         0.0    False   Feb   \n",
       "3         0.05       0.14         0.0         0.0    False   Feb   \n",
       "4         0.02       0.05         0.0         0.0     True   Feb   \n",
       "\n",
       "         CustomerType  Purchase  \n",
       "0  Returning_Customer       0.0  \n",
       "1  Returning_Customer       0.0  \n",
       "2  Returning_Customer       0.0  \n",
       "3  Returning_Customer       0.0  \n",
       "4  Returning_Customer       0.0  "
      ]
     },
     "execution_count": 4,
     "metadata": {},
     "output_type": "execute_result"
    }
   ],
   "source": [
    "# Import required libraries\n",
    "import pandas as pd\n",
    "import numpy as np\n",
    "import matplotlib.pyplot as plt\n",
    "from scipy import stats\n",
    "\n",
    "# Load and view your data\n",
    "shopping_data = pd.read_csv(\"online_shopping_session_data.csv\")\n",
    "shopping_data.head()"
   ]
  },
  {
   "cell_type": "markdown",
   "id": "3f121e51",
   "metadata": {},
   "source": [
    "Cómo abordar el proyecto\n",
    "1. Calcular las tasas de compra en línea por tipo de cliente\n",
    "\n",
    "2. Identificar la correlación más fuerte entre las variables de duración\n",
    "\n",
    "3. Calcular la probabilidad binomial de ventas"
   ]
  },
  {
   "cell_type": "code",
   "execution_count": 5,
   "id": "2fd7809b-b635-4db1-9d56-29391ff1cb00",
   "metadata": {},
   "outputs": [
    {
     "name": "stdout",
     "output_type": "stream",
     "text": [
      "<class 'pandas.core.frame.DataFrame'>\n",
      "RangeIndex: 12055 entries, 0 to 12054\n",
      "Data columns (total 15 columns):\n",
      " #   Column                   Non-Null Count  Dtype  \n",
      "---  ------                   --------------  -----  \n",
      " 0   SessionID                12055 non-null  int64  \n",
      " 1   Administrative           12055 non-null  int64  \n",
      " 2   Administrative_Duration  12055 non-null  float64\n",
      " 3   Informational            12055 non-null  int64  \n",
      " 4   Informational_Duration   12055 non-null  float64\n",
      " 5   ProductRelated           12055 non-null  int64  \n",
      " 6   ProductRelated_Duration  12055 non-null  float64\n",
      " 7   BounceRates              12055 non-null  float64\n",
      " 8   ExitRates                12055 non-null  float64\n",
      " 9   PageValues               12055 non-null  float64\n",
      " 10  SpecialDay               12055 non-null  float64\n",
      " 11  Weekend                  12055 non-null  bool   \n",
      " 12  Month                    12055 non-null  object \n",
      " 13  CustomerType             12054 non-null  object \n",
      " 14  Purchase                 12054 non-null  float64\n",
      "dtypes: bool(1), float64(8), int64(4), object(2)\n",
      "memory usage: 1.3+ MB\n",
      "None\n"
     ]
    }
   ],
   "source": [
    "# Start your code here!\n",
    "# Use as many cells as you like\n",
    "shopping_data['CustomerType'].unique()\n",
    "\n",
    "print(shopping_data.info())\n",
    "\n"
   ]
  },
  {
   "cell_type": "code",
   "execution_count": 6,
   "id": "0220bb59",
   "metadata": {},
   "outputs": [
    {
     "data": {
      "text/plain": [
       "SessionID                  0\n",
       "Administrative             0\n",
       "Administrative_Duration    0\n",
       "Informational              0\n",
       "Informational_Duration     0\n",
       "ProductRelated             0\n",
       "ProductRelated_Duration    0\n",
       "BounceRates                0\n",
       "ExitRates                  0\n",
       "PageValues                 0\n",
       "SpecialDay                 0\n",
       "Weekend                    0\n",
       "Month                      0\n",
       "CustomerType               1\n",
       "Purchase                   1\n",
       "dtype: int64"
      ]
     },
     "execution_count": 6,
     "metadata": {},
     "output_type": "execute_result"
    }
   ],
   "source": [
    "shopping_data.isna().sum()\n",
    "\n"
   ]
  },
  {
   "cell_type": "code",
   "execution_count": 7,
   "id": "1f115312",
   "metadata": {},
   "outputs": [
    {
     "name": "stdout",
     "output_type": "stream",
     "text": [
      "SessionID                  0\n",
      "Administrative             0\n",
      "Administrative_Duration    0\n",
      "Informational              0\n",
      "Informational_Duration     0\n",
      "ProductRelated             0\n",
      "ProductRelated_Duration    0\n",
      "BounceRates                0\n",
      "ExitRates                  0\n",
      "PageValues                 0\n",
      "SpecialDay                 0\n",
      "Weekend                    0\n",
      "Month                      0\n",
      "CustomerType               0\n",
      "Purchase                   0\n",
      "dtype: int64\n",
      "['Returning_Customer' 'New_Customer']\n"
     ]
    }
   ],
   "source": [
    "#valores nulos\n",
    "shopping_data.dropna(inplace=True)\n",
    "\n",
    "print(shopping_data.isna().sum())\n",
    "\n",
    "print(shopping_data['CustomerType'].unique())"
   ]
  },
  {
   "cell_type": "code",
   "execution_count": 8,
   "id": "c36604cb",
   "metadata": {},
   "outputs": [
    {
     "name": "stdout",
     "output_type": "stream",
     "text": [
      "      SessionID  Administrative  Administrative_Duration  Informational  \\\n",
      "5463       5464               1                     39.2              2   \n",
      "5464       5465               3                     89.6              0   \n",
      "5467       5468               4                    204.2              0   \n",
      "5479       5480               0                      0.0              0   \n",
      "5494       5495               0                      0.0              0   \n",
      "\n",
      "      Informational_Duration  ProductRelated  ProductRelated_Duration  \\\n",
      "5463                   120.8               7                80.500000   \n",
      "5464                     0.0              57              1721.906667   \n",
      "5467                     0.0              31               652.376667   \n",
      "5479                     0.0              13               710.066667   \n",
      "5494                     0.0              24               968.692424   \n",
      "\n",
      "      BounceRates  ExitRates  PageValues  SpecialDay  Weekend Month  \\\n",
      "5463     0.000000   0.010000    0.000000         0.0     True   Nov   \n",
      "5464     0.000000   0.005932  204.007949         0.0     True   Nov   \n",
      "5467     0.012121   0.016162    0.000000         0.0    False   Nov   \n",
      "5479     0.000000   0.007692   72.522838         0.0    False   Nov   \n",
      "5494     0.000000   0.000000  106.252517         0.0    False   Nov   \n",
      "\n",
      "            CustomerType  Purchase  \n",
      "5463        New_Customer       0.0  \n",
      "5464  Returning_Customer       1.0  \n",
      "5467  Returning_Customer       0.0  \n",
      "5479  Returning_Customer       1.0  \n",
      "5494  Returning_Customer       1.0  \n",
      "['Nov' 'Dec']\n"
     ]
    }
   ],
   "source": [
    "#Calcular las tasas de compra en línea por tipo de cliente\n",
    "#Querrás hacer un subconjunto de los datos para mantener solo las sesiones de compras de noviembre y diciembre, \n",
    "# luego encontrar el número total de sesiones y compras por tipo de cliente para obtener la tasa.\n",
    "\n",
    "\n",
    "\n",
    "\n",
    "# aca arme un subconjuto filtrado por mes\n",
    "shopping_Nov_Dec= shopping_data[shopping_data['Month'].isin(['Nov', 'Dec'])]\n",
    "\n",
    "# Preview to make sure the subset is correct\n",
    "print(shopping_Nov_Dec.head())\n",
    "\n",
    "# Make sure we only have November and December data\n",
    "print(shopping_Nov_Dec['Month'].unique())\n",
    "\n"
   ]
  },
  {
   "cell_type": "markdown",
   "id": "97b01d1d",
   "metadata": {},
   "source": [
    "Calcular la frecuencia de sesiones por tipo de cliente\n",
    "Para obtener purchase_rates, necesitas conocer el número total de sesiones así como el número de compras para cada tipo de cliente. Esto se puede obtener mirando el número de filas en el DataFrame después de hacer un subconjunto por un tipo específico de CustomerType y estado de Purchase.\n",
    "Puedes usar .groupby([var1, var2]) seguido del método .value_counts() para obtener el recuento de filas por CustomerType y Purchase. Almacena la serie de pandas resultante en una nueva variable.\n",
    "Puedes usar \"New_Customer\" para hacer un subconjunto de los resultados de .value_counts() y aplicar la función np.sum() para obtener el número total de sesiones para \"New_Customer\".\n",
    "Puedes usar una tupla (\"New_Customer\", 1) para hacer un subconjunto de los resultados de .value_counts() y obtener el número de compras para \"New_Customer\"."
   ]
  },
  {
   "cell_type": "code",
   "execution_count": 9,
   "id": "aad3dfcb",
   "metadata": {},
   "outputs": [
    {
     "name": "stdout",
     "output_type": "stream",
     "text": [
      "CustomerType        Purchase\n",
      "New_Customer        0.0          529\n",
      "                    1.0          199\n",
      "Returning_Customer  0.0         2994\n",
      "                    1.0          728\n",
      "Name: count, dtype: int64\n",
      "728\n",
      "3722\n"
     ]
    }
   ],
   "source": [
    "#costumer_type= df_sub.groupby('CustomerType')['Returning_Customer','New_Customer'].value_counts() mi respuesta es erronea\n",
    "\n",
    "count_session = shopping_Nov_Dec.groupby(['CustomerType'])['Purchase'].value_counts()\n",
    "\n",
    "#total_new = count_session[count_session['CustomerType']== 'New_Customer'].values_count().np.sum()Mi respuesta es incorrecta\n",
    "total_new_customer = np.sum(count_session['New_Customer'])\n",
    "\n",
    "total_returning = np.sum(count_session['Returning_Customer'])\n",
    "\n",
    "\n",
    "print(count_session)\n",
    "print(total_new_customer)\n",
    "print(total_returning)\n",
    "\n"
   ]
  },
  {
   "cell_type": "code",
   "execution_count": 10,
   "id": "a7bb682f",
   "metadata": {},
   "outputs": [
    {
     "name": "stdout",
     "output_type": "stream",
     "text": [
      "199\n",
      "728\n"
     ]
    }
   ],
   "source": [
    "#numero total de compras por CustemerType\n",
    "purchase_new_custumer = count_session[('New_Customer',1)]\n",
    "\n",
    "purchase_returing_custumer = count_session[('Returning_Customer', 1)]\n",
    "\n",
    "print(purchase_new_custumer)\n",
    "print(purchase_returing_custumer)"
   ]
  },
  {
   "cell_type": "code",
   "execution_count": 11,
   "id": "98a38fd1",
   "metadata": {},
   "outputs": [
    {
     "name": "stdout",
     "output_type": "stream",
     "text": [
      "{'Returning_Customer': 0.1955937667920473, 'New_Customer': 0.2733516483516483}\n"
     ]
    }
   ],
   "source": [
    "#calcular la tasa de compra \n",
    "purchase_rate_new = purchase_new_custumer/total_new_customer\n",
    "\n",
    "purchase_rate_returing = purchase_returing_custumer/ total_returning\n",
    "\n",
    "purchase_rates = {\"Returning_Customer\": purchase_rate_returing, \"New_Customer\": purchase_rate_new}\n",
    "print(purchase_rates)"
   ]
  },
  {
   "cell_type": "markdown",
   "id": "173047bb",
   "metadata": {},
   "source": [
    "Seleccionar las variables de duración relevantes\n",
    "* Identifica todas las columnas de duración del conjunto de datos para las cuales necesitas determinar la correlación.\n",
    "* Una correlación se calcula entre cada par de variables. Deberías estar calculando la correlación tres veces.\n",
    "* Para calcular la correlación entre dos columnas en un DataFrame, puedes usar el método df['col1'].corr(df['col2']) en una serie de pandas.\n",
    "* Informa el par con la correlación más fuerte como una tupla y el valor de la correlación como un float.\n",
    "* Las respuestas finales deben guardarse en un diccionario con la sintaxis y los nombres exactos de las claves como se muestra a continuación. * top_correlation = {\"pair\": (x_duration, y_duration), \"correlation\": 0.345}"
   ]
  },
  {
   "cell_type": "code",
   "execution_count": 12,
   "id": "e621cfe4",
   "metadata": {},
   "outputs": [
    {
     "name": "stdout",
     "output_type": "stream",
     "text": [
      "0.24468855792839375\n",
      "0.38985460032069646\n",
      "0.3671255253444218\n"
     ]
    }
   ],
   "source": [
    "cor_admin_info = shopping_Nov_Dec['Administrative_Duration'].corr(shopping_Nov_Dec['Informational_Duration'])\n",
    "cor_admin_product= shopping_Nov_Dec['Administrative_Duration'].corr(shopping_Nov_Dec['ProductRelated_Duration'])\n",
    "cor_product_info = shopping_Nov_Dec['ProductRelated_Duration'].corr(shopping_Nov_Dec['Informational_Duration'])\n",
    "\n",
    "print(cor_admin_info)\n",
    "print(cor_admin_product)\n",
    "print(cor_product_info)"
   ]
  },
  {
   "cell_type": "markdown",
   "id": "3f3f28f1",
   "metadata": {},
   "source": [
    "Tendrás que calcular la tasa de compra mejorada para los clientes que regresan, que ahora es un 15% mayor que la tasa actual. Recuerda que la variable Compra es una variable aleatoria binomial. Por lo tanto, puedes usar la función de distribución acumulativa binomial para encontrar la probabilidad.\n",
    "\n",
    "Calcula la tasa de compra mejorada para los clientes que regresan\n",
    "La nueva tasa de compra es un 15% mayor que la tasa de compra actual para los clientes que regresan.\n",
    "Para obtener este número, multiplica 1,15 por la tasa de compra actual de los clientes que regresan.\n",
    "\n",
    "La variable Compra solo toma un valor de 0 o 1. Una variable de resultado binaria sigue la distribución de probabilidad binomial.\n",
    "La distribución de probabilidad binomial se caracteriza por la probabilidad de éxito (p) y el número de ensayos (n). En nuestro caso, la tasa de compra representa p mientras que el número de sesiones representa n.\n",
    "Una función de distribución acumulativa (cdf) proporciona la función de probabilidad que proporciona la probabilidad de que una variable aleatoria X sea menor o igual a k. En la distribución binomial, k es el número de compras. Para obtener la probabilidad de tener k compras o menos, puede utilizar la función scipy.stats.binom.cdf() con los argumentos k, n y p."
   ]
  },
  {
   "cell_type": "code",
   "execution_count": 13,
   "id": "2530f3ef",
   "metadata": {},
   "outputs": [
    {
     "data": {
      "text/plain": [
       "{'pair': ('Administrative_Duration', 'ProductRelated_Duration'),\n",
       " 'correlation': 0.38985460032069646}"
      ]
     },
     "execution_count": 13,
     "metadata": {},
     "output_type": "execute_result"
    }
   ],
   "source": [
    "top_correlation ={\"pair\":('Administrative_Duration','ProductRelated_Duration'),\"correlation\": cor_admin_product }\n",
    "\n",
    "top_correlation"
   ]
  },
  {
   "cell_type": "code",
   "execution_count": 14,
   "id": "a0cf6885",
   "metadata": {},
   "outputs": [
    {
     "name": "stdout",
     "output_type": "stream",
     "text": [
      "Current purchase rate for the returning customer: 0.1955937667920473\n",
      "Increased purchase rate for the returning customer: 0.22493283181085436\n",
      "probability of having <100 sales:  0.09877786609627338\n"
     ]
    }
   ],
   "source": [
    "print('Current purchase rate for the returning customer:', purchase_rate_returing)\n",
    "\n",
    "incrased_purchase_rate_returning = 1.15*purchase_rate_returing\n",
    "\n",
    "print(\"Increased purchase rate for the returning customer:\", incrased_purchase_rate_returning)\n",
    "\n",
    "# First, we find the likelihood of having <100 sales of 500 sessions\n",
    "# We can find this from binomial cdf\n",
    "prob_sales_100_less = stats.binom.cdf(k=100, n=500, p=incrased_purchase_rate_returning)\n",
    "print('probability of having <100 sales: ', prob_sales_100_less)"
   ]
  },
  {
   "cell_type": "code",
   "execution_count": 15,
   "id": "498a0be7",
   "metadata": {},
   "outputs": [
    {
     "name": "stdout",
     "output_type": "stream",
     "text": [
      "probability of having at least 100 sales: 0.9012221339037266\n"
     ]
    }
   ],
   "source": [
    "# Entonces, para encontrar la probabilidad de tener 100 o más ventas es 1-prob_ventas_100_menos\n",
    "prob_at_least_100_sales = 1-prob_sales_100_less\n",
    "print(\"probability of having at least 100 sales:\", prob_at_least_100_sales)"
   ]
  },
  {
   "cell_type": "code",
   "execution_count": 16,
   "id": "de3e7d10",
   "metadata": {},
   "outputs": [
    {
     "data": {
      "image/png": "[encoded data removed]",
      "text/plain": [
       "<Figure size 640x480 with 1 Axes>"
      ]
     },
     "metadata": {},
     "output_type": "display_data"
    }
   ],
   "source": [
    "n_sessions = 500\n",
    "k_values = np.arange(500) + 1\n",
    "p_binom_values = [stats.binom.pmf(k, n_sessions, incrased_purchase_rate_returning)for k in k_values]\n",
    "plt.bar(k_values,p_binom_values)\n",
    "plt.vlines(100, 0, 0.08, colors='r', linestyles='dashed', label=\"sales=100\")\n",
    "\n",
    "plt.xlabel('number of sales')\n",
    "plt.ylabel('probability')\n",
    "plt.legend()\n",
    "plt.show()\n"
   ]
  }
 ],
 "metadata": {
  "editor": "DataLab",
  "kernelspec": {
   "display_name": "base",
   "language": "python",
   "name": "python3"
  },
  "language_info": {
   "codemirror_mode": {
    "name": "ipython",
    "version": 3
   },
   "file_extension": ".py",
   "mimetype": "text/x-python",
   "name": "python",
   "nbconvert_exporter": "python",
   "pygments_lexer": "ipython3",
   "version": "3.11.5"
  }
 },
 "nbformat": 4,
 "nbformat_minor": 5
}
